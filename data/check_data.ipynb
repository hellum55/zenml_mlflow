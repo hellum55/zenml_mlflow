{
 "cells": [
  {
   "cell_type": "code",
   "execution_count": 1,
   "metadata": {},
   "outputs": [],
   "source": [
    "import pandas as pd\n",
    "data_path = '../extracted_data/data.csv'\n",
    "df = pd.read_csv(data_path)"
   ]
  },
  {
   "cell_type": "code",
   "execution_count": 2,
   "metadata": {},
   "outputs": [
    {
     "data": {
      "text/html": [
       "<div>\n",
       "<style scoped>\n",
       "    .dataframe tbody tr th:only-of-type {\n",
       "        vertical-align: middle;\n",
       "    }\n",
       "\n",
       "    .dataframe tbody tr th {\n",
       "        vertical-align: top;\n",
       "    }\n",
       "\n",
       "    .dataframe thead th {\n",
       "        text-align: right;\n",
       "    }\n",
       "</style>\n",
       "<table border=\"1\" class=\"dataframe\">\n",
       "  <thead>\n",
       "    <tr style=\"text-align: right;\">\n",
       "      <th></th>\n",
       "      <th>propertyType</th>\n",
       "      <th>rooms</th>\n",
       "      <th>size</th>\n",
       "      <th>buildYear</th>\n",
       "      <th>cluster_100m</th>\n",
       "      <th>adj_price</th>\n",
       "      <th>cluster_1000m</th>\n",
       "      <th>avg_adjusted_sqm_price_100m</th>\n",
       "      <th>avg_adjusted_sqm_price_1000m</th>\n",
       "    </tr>\n",
       "  </thead>\n",
       "  <tbody>\n",
       "    <tr>\n",
       "      <th>0</th>\n",
       "      <td>3</td>\n",
       "      <td>3.0</td>\n",
       "      <td>97</td>\n",
       "      <td>2017</td>\n",
       "      <td>0</td>\n",
       "      <td>4544994</td>\n",
       "      <td>0</td>\n",
       "      <td>46855</td>\n",
       "      <td>47731</td>\n",
       "    </tr>\n",
       "    <tr>\n",
       "      <th>1</th>\n",
       "      <td>3</td>\n",
       "      <td>4.0</td>\n",
       "      <td>83</td>\n",
       "      <td>1905</td>\n",
       "      <td>1</td>\n",
       "      <td>4095045</td>\n",
       "      <td>0</td>\n",
       "      <td>49337</td>\n",
       "      <td>44189</td>\n",
       "    </tr>\n",
       "    <tr>\n",
       "      <th>2</th>\n",
       "      <td>3</td>\n",
       "      <td>2.0</td>\n",
       "      <td>63</td>\n",
       "      <td>1930</td>\n",
       "      <td>1</td>\n",
       "      <td>2982810</td>\n",
       "      <td>0</td>\n",
       "      <td>47345</td>\n",
       "      <td>44189</td>\n",
       "    </tr>\n",
       "    <tr>\n",
       "      <th>3</th>\n",
       "      <td>3</td>\n",
       "      <td>4.0</td>\n",
       "      <td>124</td>\n",
       "      <td>1901</td>\n",
       "      <td>1</td>\n",
       "      <td>2831142</td>\n",
       "      <td>0</td>\n",
       "      <td>22831</td>\n",
       "      <td>44189</td>\n",
       "    </tr>\n",
       "    <tr>\n",
       "      <th>4</th>\n",
       "      <td>3</td>\n",
       "      <td>4.0</td>\n",
       "      <td>132</td>\n",
       "      <td>1969</td>\n",
       "      <td>2</td>\n",
       "      <td>5864509</td>\n",
       "      <td>0</td>\n",
       "      <td>44427</td>\n",
       "      <td>37211</td>\n",
       "    </tr>\n",
       "  </tbody>\n",
       "</table>\n",
       "</div>"
      ],
      "text/plain": [
       "   propertyType  rooms  size  buildYear  cluster_100m  adj_price  \\\n",
       "0             3    3.0    97       2017             0    4544994   \n",
       "1             3    4.0    83       1905             1    4095045   \n",
       "2             3    2.0    63       1930             1    2982810   \n",
       "3             3    4.0   124       1901             1    2831142   \n",
       "4             3    4.0   132       1969             2    5864509   \n",
       "\n",
       "   cluster_1000m  avg_adjusted_sqm_price_100m  avg_adjusted_sqm_price_1000m  \n",
       "0              0                        46855                         47731  \n",
       "1              0                        49337                         44189  \n",
       "2              0                        47345                         44189  \n",
       "3              0                        22831                         44189  \n",
       "4              0                        44427                         37211  "
      ]
     },
     "execution_count": 2,
     "metadata": {},
     "output_type": "execute_result"
    }
   ],
   "source": [
    "df.head()"
   ]
  },
  {
   "cell_type": "code",
   "execution_count": 4,
   "metadata": {},
   "outputs": [],
   "source": [
    "#make avg_adjusted_sqm_price_100m and avg_adjusted_sqm_price_1000m integers\n",
    "df['avg_adjusted_sqm_price_100m'] = df['avg_adjusted_sqm_price_100m'].astype(int)\n",
    "df['avg_adjusted_sqm_price_1000m'] = df['avg_adjusted_sqm_price_1000m'].astype(int)"
   ]
  },
  {
   "cell_type": "code",
   "execution_count": 6,
   "metadata": {},
   "outputs": [],
   "source": [
    "#make adj_price integer\n",
    "df['adj_price'] = df['adj_price'].astype(int)"
   ]
  },
  {
   "cell_type": "code",
   "execution_count": 8,
   "metadata": {},
   "outputs": [],
   "source": [
    "#save to csv\n",
    "df.to_csv(data_path, index=False)"
   ]
  },
  {
   "cell_type": "code",
   "execution_count": 1,
   "metadata": {},
   "outputs": [
    {
     "name": "stdout",
     "output_type": "stream",
     "text": [
      "4.770684624465665 10.773336360964212 10.663522056137511\n"
     ]
    }
   ],
   "source": [
    "import numpy as np\n",
    "log1 = np.log(118)\n",
    "log2 = np.log(47731)\n",
    "log3 = np.log(42767)\n",
    "print(log1, log2, log3)"
   ]
  },
  {
   "cell_type": "code",
   "execution_count": 2,
   "metadata": {},
   "outputs": [
    {
     "name": "stdout",
     "output_type": "stream",
     "text": [
      "4.007333185232471 4.787491742782046 10.51867319162636 10.714417768752456 10.46310334047155 10.596634733096073\n"
     ]
    }
   ],
   "source": [
    "import numpy as np\n",
    "log4 = np.log(55)\n",
    "log5 = np.log(120)\n",
    "log6 = np.log(37000)\n",
    "log7 = np.log(45000)\n",
    "log8 = np.log(35000)\n",
    "log9 = np.log(40000)\n",
    "print(log4, log5, log6, log7, log8, log9)   "
   ]
  }
 ],
 "metadata": {
  "kernelspec": {
   "display_name": ".venv",
   "language": "python",
   "name": "python3"
  },
  "language_info": {
   "codemirror_mode": {
    "name": "ipython",
    "version": 3
   },
   "file_extension": ".py",
   "mimetype": "text/x-python",
   "name": "python",
   "nbconvert_exporter": "python",
   "pygments_lexer": "ipython3",
   "version": "3.11.2"
  }
 },
 "nbformat": 4,
 "nbformat_minor": 2
}
